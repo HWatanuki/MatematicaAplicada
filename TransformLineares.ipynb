{
  "nbformat": 4,
  "nbformat_minor": 0,
  "metadata": {
    "colab": {
      "name": "TransformLineares.ipynb",
      "provenance": [],
      "include_colab_link": true
    },
    "kernelspec": {
      "name": "python3",
      "display_name": "Python 3"
    },
    "language_info": {
      "name": "python"
    }
  },
  "cells": [
    {
      "cell_type": "markdown",
      "metadata": {
        "id": "view-in-github",
        "colab_type": "text"
      },
      "source": [
        "<a href=\"https://colab.research.google.com/github/HWatanuki/MatematicaAplicada/blob/main/TransformLineares.ipynb\" target=\"_parent\"><img src=\"https://colab.research.google.com/assets/colab-badge.svg\" alt=\"Open In Colab\"/></a>"
      ]
    },
    {
      "cell_type": "code",
      "execution_count": null,
      "metadata": {
        "id": "3GreqmTFlv2T"
      },
      "outputs": [],
      "source": [
        "import numpy as np\n",
        "import matplotlib.pyplot as plt"
      ]
    },
    {
      "cell_type": "code",
      "source": [
        "# Vamos estabelecer um diagrama cartesiano com pontos\n",
        "XMIN, XMAX, YMIN, YMAX = -3, 3, -3, 3\n",
        "N = 16\n",
        "xgrid = np.linspace(XMIN, XMAX, N)\n",
        "ygrid = np.linspace(YMIN, YMAX, N)\n",
        "grid = np.array(np.meshgrid(xgrid, ygrid)).reshape(2, N**2)"
      ],
      "metadata": {
        "id": "TAvFzaAml18K"
      },
      "execution_count": null,
      "outputs": []
    },
    {
      "cell_type": "code",
      "source": [
        "# Vamos usar dois vetores da base, não transformados: i e j\n",
        "base = np.array([[1,0], [0,1]])"
      ],
      "metadata": {
        "id": "_UNEC4HVmPyb"
      },
      "execution_count": null,
      "outputs": []
    },
    {
      "cell_type": "code",
      "source": [
        "#função para desenhar o quadrado dos vetores da base\n",
        "def plota_quadro(base, cor='c'):\n",
        "    \"\"\"Desenha o quadrado definido pelos dois vetores-base.\"\"\"\n",
        "    ix, iy = base[0]\n",
        "    jx, jy = base[1]\n",
        "    plt.plot([0, ix, ix+jx, jx, 0], [0, iy, iy+jy, jy, 0], cor)"
      ],
      "metadata": {
        "id": "AmyPm_I4mbMw"
      },
      "execution_count": null,
      "outputs": []
    },
    {
      "cell_type": "code",
      "source": [
        "def plota_vetor(v, cor='k', lw=1):\n",
        "    \"\"\"Desenha o vetor v como uma linha com largura e cor determinadas.\"\"\"\n",
        "    plt.plot([0, v[0]], [0, v[1]], c=cor, lw=lw)"
      ],
      "metadata": {
        "id": "Glgo9ihRmorz"
      },
      "execution_count": null,
      "outputs": []
    },
    {
      "cell_type": "code",
      "source": [
        "def plota_pontos(grid, color='m'):\n",
        "    \"\"\"Desenha os pontos do grid em uma cor determinada.\"\"\"\n",
        "    plt.scatter(*grid, c=color, s=2, alpha=0.5)"
      ],
      "metadata": {
        "id": "B-CtQhzBmqeS"
      },
      "execution_count": null,
      "outputs": []
    },
    {
      "cell_type": "code",
      "source": [
        "def aplica_transformacao(basis, T):\n",
        "    \"\"\"Retorna os vetores-base transformados depois de aplicar T.\"\"\"\n",
        "    return (T @ basis.T).T"
      ],
      "metadata": {
        "id": "ZViK-PhFmso7"
      },
      "execution_count": null,
      "outputs": []
    },
    {
      "cell_type": "markdown",
      "source": [
        "$T = \\left[ \\begin {array}{cc} \\frac {3}{2} & \\frac {1}{2} \\\\ \\frac {1}{2} & \\frac {3}{2}  \\end{array}\\right] $"
      ],
      "metadata": {
        "id": "IRHjqfsLFmvc"
      }
    },
    {
      "cell_type": "code",
      "source": [
        "# Plota o grid original com quadrados unitários\n",
        "plota_quadro(base)\n",
        "plota_pontos(grid)\n",
        "\n",
        "\n",
        "# Aplicamos a matriz de transformação S\n",
        "S = np.array(((1.5, 0.5),(0.5, 1.5)))\n",
        "tbase = aplica_transformacao(base, S)\n",
        "plota_quadro(tbase, 'c')\n",
        "tgrid = S @ grid\n",
        "plota_pontos(tgrid, 'b')\n",
        "\n",
        "# tema da aula do dia 3/maio\n",
        "# Encontramos os autovalores e autovetores de S\n",
        "vals, vets = np.linalg.eig(S)\n",
        "print(vals, vets)\n",
        "if all(np.isreal(vals)):\n",
        "    # ... se eles forem todos reais, mostramos no diagrama\n",
        "    v1, v2 = vals\n",
        "    e1, e2 = vets.T\n",
        "    plota_vetor(v1*e1, 'r', 3)\n",
        "    plota_vetor(v2*e2, 'r', 3)\n",
        "    plota_vetor(e1, 'k')\n",
        "    plota_vetor(e2, 'k')\n",
        "\n",
        "# Garantimos que o diagrama tenha um aspecto de 1:1 \n",
        "# (ou seja, os quadrados aparecem como quadrados) e \n",
        "# e estabelecemos os limites\n",
        "plt.axis('square')\n",
        "plt.xlim(XMIN, XMAX)\n",
        "plt.ylim(YMIN, YMAX)\n",
        "\n",
        "plt.show()    "
      ],
      "metadata": {
        "colab": {
          "base_uri": "https://localhost:8080/",
          "height": 305
        },
        "id": "vl-6P6IvnUz0",
        "outputId": "81c9abff-8e0e-4d7c-b7ec-d5cf24ca89b9"
      },
      "execution_count": null,
      "outputs": [
        {
          "output_type": "stream",
          "name": "stdout",
          "text": [
            "[2. 1.] [[ 0.70710678 -0.70710678]\n",
            " [ 0.70710678  0.70710678]]\n"
          ]
        },
        {
          "output_type": "display_data",
          "data": {
            "text/plain": [
              "<Figure size 432x288 with 1 Axes>"
            ],
            "image/png": "[encoded data removed]"
          },
          "metadata": {
            "needs_background": "light"
          }
        }
      ]
    },
    {
      "cell_type": "markdown",
      "source": [
        "Repetindo tudo, passo a passo"
      ],
      "metadata": {
        "id": "9p2g6fIekWjP"
      }
    },
    {
      "cell_type": "code",
      "source": [
        "# Plota o grid original com quadrados unitários\n",
        "plota_pontos(grid)\n",
        "plota_quadro(base)\n",
        "\n",
        "# Aplicamos a matriz de transformação S\n",
        "S = np.array(((1.5, 0.5),(0.5, 1.5)))\n",
        "tbase = aplica_transformacao(base, S)\n",
        "plota_quadro(tbase, 'r')\n",
        "tgrid = S @ grid\n",
        "plota_pontos(tgrid, 'r')"
      ],
      "metadata": {
        "colab": {
          "base_uri": "https://localhost:8080/",
          "height": 265
        },
        "id": "UK8-b5BpnjBA",
        "outputId": "620fb160-1fd8-45d4-c877-387387fc3e5d"
      },
      "execution_count": null,
      "outputs": [
        {
          "output_type": "display_data",
          "data": {
            "text/plain": [
              "<Figure size 432x288 with 1 Axes>"
            ],
            "image/png": "[encoded data removed]"
          },
          "metadata": {
            "needs_background": "light"
          }
        }
      ]
    },
    {
      "cell_type": "markdown",
      "source": [
        "Autovetores e autovalores serão tema da aula do dia 3 de maio"
      ],
      "metadata": {
        "id": "HOe-qOoaki3_"
      }
    },
    {
      "cell_type": "code",
      "source": [
        "# Plota o grid original com quadrados unitários\n",
        "plota_pontos(grid)\n",
        "plota_quadro(base)\n",
        "\n",
        "# Aplicamos a matriz de transformação S\n",
        "S = np.array(((1.5, 0.5),(0.5, 1.5)))\n",
        "tbasis = aplica_transformacao(base, S)\n",
        "plota_quadro(tbasis, 'r')\n",
        "tgrid = S @ grid\n",
        "plota_pontos(tgrid, 'r')\n",
        "# Encontramos os autovalores e autovetores de S\n",
        "vals, vets = np.linalg.eig(S)\n",
        "print(vals, vets)\n",
        "if all(np.isreal(vals)):\n",
        "    # ... se eles forem todos reais, mostramos no diagrama\n",
        "    v1, v2 = vals\n",
        "    e1, e2 = vets.T\n",
        "    plota_vetor(v1*e1, 'r', 3)\n",
        "    plota_vetor(v2*e2, 'r', 3)\n",
        "    plota_vetor(e1, 'k')\n",
        "    plota_vetor(e2, 'k')"
      ],
      "metadata": {
        "colab": {
          "base_uri": "https://localhost:8080/",
          "height": 302
        },
        "id": "hHf6L-DPnr-W",
        "outputId": "d32cd5d8-bc91-4daa-fd4d-95b8a44b6ef3"
      },
      "execution_count": null,
      "outputs": [
        {
          "output_type": "stream",
          "name": "stdout",
          "text": [
            "[2. 1.] [[ 0.70710678 -0.70710678]\n",
            " [ 0.70710678  0.70710678]]\n"
          ]
        },
        {
          "output_type": "display_data",
          "data": {
            "text/plain": [
              "<Figure size 432x288 with 1 Axes>"
            ],
            "image/png": "[encoded data removed]"
          },
          "metadata": {
            "needs_background": "light"
          }
        }
      ]
    },
    {
      "cell_type": "code",
      "source": [
        "# Plota o grid original com quadrados unitários\n",
        "plota_pontos(grid)\n",
        "plota_quadro(base)\n",
        "\n",
        "# Aplicamos a matriz de transformação S\n",
        "S = np.array(((1.5, 0.5),(0.5, 1.5)))\n",
        "tbase = aplica_transformacao(base, S)\n",
        "plota_quadro(tbase, 'r')\n",
        "tgrid = S @ grid\n",
        "plota_pontos(tgrid, 'r')\n",
        "# Encontramos os autovalores e autovetores de S\n",
        "vals, vets = np.linalg.eig(S)\n",
        "print(vals, vets)\n",
        "if all(np.isreal(vals)):\n",
        "    # ... se eles forem todos reais, mostramos no diagrama\n",
        "    v1, v2 = vals\n",
        "    e1, e2 = vets.T\n",
        "    plota_vetor(v1*e1, 'r', 3)\n",
        "    plota_vetor(v2*e2, 'r', 3)\n",
        "    plota_vetor(e1, 'k')\n",
        "    plota_vetor(e2, 'k')\n",
        "# Garantimos que o diagrama tenha um aspecto de 1:1 \n",
        "# (ou seja, os quadrados aparecem como quadrados) e \n",
        "# e estabelecemos os limites\n",
        "plt.axis('square')\n",
        "plt.xlim(XMIN, XMAX)\n",
        "plt.ylim(YMIN, YMAX)\n",
        "\n",
        "plt.show()"
      ],
      "metadata": {
        "colab": {
          "base_uri": "https://localhost:8080/",
          "height": 305
        },
        "id": "JXSJ6SXEn80G",
        "outputId": "7dc90702-4200-4e41-b9d0-2bb17c1aa392"
      },
      "execution_count": null,
      "outputs": [
        {
          "output_type": "stream",
          "name": "stdout",
          "text": [
            "[2. 1.] [[ 0.70710678 -0.70710678]\n",
            " [ 0.70710678  0.70710678]]\n"
          ]
        },
        {
          "output_type": "display_data",
          "data": {
            "text/plain": [
              "<Figure size 432x288 with 1 Axes>"
            ],
            "image/png": "[encoded data removed]"
          },
          "metadata": {
            "needs_background": "light"
          }
        }
      ]
    }
  ]
}