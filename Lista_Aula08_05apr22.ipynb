{
  "nbformat": 4,
  "nbformat_minor": 0,
  "metadata": {
    "colab": {
      "name": "Aula14_HMW.ipynb",
      "provenance": [],
      "authorship_tag": "ABX9TyNMroSEpWDbcpWCD9T2qD5v",
      "include_colab_link": true
    },
    "kernelspec": {
      "name": "python3",
      "display_name": "Python 3"
    },
    "language_info": {
      "name": "python"
    }
  },
  "cells": [
    {
      "cell_type": "markdown",
      "metadata": {
        "id": "view-in-github",
        "colab_type": "text"
      },
      "source": [
        "<a href=\"https://colab.research.google.com/github/HWatanuki/MatematicaAplicada/blob/main/Lista_Aula08_05apr22.ipynb\" target=\"_parent\"><img src=\"https://colab.research.google.com/assets/colab-badge.svg\" alt=\"Open In Colab\"/></a>"
      ]
    },
    {
      "cell_type": "code",
      "execution_count": null,
      "metadata": {
        "id": "QO2xc3YU2_RX"
      },
      "outputs": [],
      "source": [
        "** Lista de Matrizes"
      ]
    },
    {
      "cell_type": "markdown",
      "source": [
        "1 – (FGV-2005) As meninas 1 = Adriana; 2 = Bruna e 3 = Carla falam muito ao  telefone entre si. A matriz M mostra cada elemento aij representando o número de telefonemas que “i” deu para “j” no mês de setembro:\n",
        "[[9 12 0] [18 0 6] [0 13 10]]. Quem mais telefonou e quem mais recebeu ligações? "
      ],
      "metadata": {
        "id": "gGSHG62VCMqZ"
      }
    },
    {
      "cell_type": "markdown",
      "source": [
        "R.: A soma dos valores de cada linha da matriz representa o número de ligações feitas. Nesse caso, a linha 2 representa a maior soma (24) e, portanto, Bruna (2) foi quem mais fez ligações. Já a soma dos valores das colunas indicam que recebeu mais ligações. Nesse caso, a coluna 1 representa a maior soma (27) e, portanto, Adriana (1) foi quem mais recebeu ligações."
      ],
      "metadata": {
        "id": "gCHh7UUSC7Iq"
      }
    },
    {
      "cell_type": "markdown",
      "source": [
        "2 – Uma matriz A é do tipo 3 x 5, outra matriz B é do tipo 5 x 2 e a matriz C é do tipo m x 4. Qual o valor de m para que exista o produto (A.B).C? "
      ],
      "metadata": {
        "id": "4oIf4U-KDvpY"
      }
    },
    {
      "cell_type": "code",
      "source": [
        "R.: Como a matriz resultante do produto A.B é do tipo 3 x 2, a matriz C deve ser do tipo 2 x 4. Portanto, m = 2."
      ],
      "metadata": {
        "id": "g_o-Sg81E8dJ"
      },
      "execution_count": null,
      "outputs": []
    },
    {
      "cell_type": "markdown",
      "source": [
        "3 - Dadas as matrizes A = [[3 1][5 -3]] e B = [[4 0]], obtenha X tal que X.A = B. \n"
      ],
      "metadata": {
        "id": "s35A38QRDxyR"
      }
    },
    {
      "cell_type": "markdown",
      "source": [
        "R.: Dado que X = B.1/A e A.1/A = IA, tem-s que 1/A = [[3/14 1/14][5/14 -3/14]]. Portanto, X = [[12/14 20/14]"
      ],
      "metadata": {
        "id": "wxEm7gkHFuam"
      }
    }
  ]
}