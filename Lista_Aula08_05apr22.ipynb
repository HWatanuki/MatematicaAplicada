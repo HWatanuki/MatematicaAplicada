{
  "nbformat": 4,
  "nbformat_minor": 0,
  "metadata": {
    "colab": {
      "name": "Aula14_HMW.ipynb",
      "provenance": [],
      "authorship_tag": "ABX9TyPQB7nFvtMQeUuWdP7O0WJq",
      "include_colab_link": true
    },
    "kernelspec": {
      "name": "python3",
      "display_name": "Python 3"
    },
    "language_info": {
      "name": "python"
    }
  },
  "cells": [
    {
      "cell_type": "markdown",
      "metadata": {
        "id": "view-in-github",
        "colab_type": "text"
      },
      "source": [
        "<a href=\"https://colab.research.google.com/github/HWatanuki/MatematicaAplicada/blob/main/Lista_Aula08_05apr22.ipynb\" target=\"_parent\"><img src=\"https://colab.research.google.com/assets/colab-badge.svg\" alt=\"Open In Colab\"/></a>"
      ]
    },
    {
      "cell_type": "code",
      "execution_count": null,
      "metadata": {
        "id": "QO2xc3YU2_RX"
      },
      "outputs": [],
      "source": [
        "** Lista de Matrizes"
      ]
    },
    {
      "cell_type": "markdown",
      "source": [
        "1 – (FGV-2005) As meninas 1 = Adriana; 2 = Bruna e 3 = Carla falam muito ao  telefone entre si. A matriz M mostra cada elemento aij representando o número de telefonemas que “i” deu para “j” no mês de setembro:\n",
        "[[9 12 0] [18 0 6] [0 13 10]]. Quem mais telefonou e quem mais recebeu ligações? "
      ],
      "metadata": {
        "id": "gGSHG62VCMqZ"
      }
    },
    {
      "cell_type": "markdown",
      "source": [
        "R.: A soma dos valores de cada linha da matriz representa o número de ligações feitas. Nesse caso, a linha 2 representa a maior soma (24) e, portanto, Bruna (2) foi quem mais fez ligações. Já a soma dos valores das colunas indicam que recebeu mais ligações. Nesse caso, a coluna 1 representa a maior soma (27) e, portanto, Adriana (1) foi quem mais recebeu ligações."
      ],
      "metadata": {
        "id": "gCHh7UUSC7Iq"
      }
    },
    {
      "cell_type": "markdown",
      "source": [
        "2 – Uma matriz A é do tipo 3 x 5, outra matriz B é do tipo 5 x 2 e a matriz C é do tipo m x 4. Qual o valor de m para que exista o produto (A.B).C? "
      ],
      "metadata": {
        "id": "4oIf4U-KDvpY"
      }
    },
    {
      "cell_type": "markdown",
      "source": [
        "R.: Como a matriz resultante do produto A.B é do tipo 3 x 2, a matriz C deve ser do tipo 2 x 4. Portanto, m = 2."
      ],
      "metadata": {
        "id": "TWESd6jrMeeg"
      }
    },
    {
      "cell_type": "markdown",
      "source": [
        "3 - Dadas as matrizes A = [[3 1][5 -3]] e B = [[4 0]], obtenha X tal que X.A = B. \n"
      ],
      "metadata": {
        "id": "s35A38QRDxyR"
      }
    },
    {
      "cell_type": "markdown",
      "source": [
        "R.: Dado que X = B.1/A e A.1/A = IA, tem-s que 1/A = [[3/14 1/14][5/14 -3/14]]. Portanto, X = [[12/14 20/14]"
      ],
      "metadata": {
        "id": "wxEm7gkHFuam"
      }
    },
    {
      "cell_type": "markdown",
      "source": [
        "4 - (FGV-2004) Uma matriz X possui elementos cuja soma vale 1. Se X.[[1 -1][-1 1]].Xt = [1], onde Xt é a transposta de X, calacule o produto dos elementos de X.\n"
      ],
      "metadata": {
        "id": "sVLWo-DOH6hK"
      }
    },
    {
      "cell_type": "markdown",
      "source": [
        "R.: Considerando que X deve ser do tipo n x 2 e Xt deve ser do tipo 2 x n e que a matriz resultante do produto deve ser do tipo 1 x 1, tem-se que n = 1. Portanto, resolvendo os produtos matriciais, obtem-se X = [[0 1]] e o produto dos elementos de X é zero."
      ],
      "metadata": {
        "id": "lT4-GYCwIX6R"
      }
    },
    {
      "cell_type": "markdown",
      "source": [
        "5 – Determine x e y na igualdade [[x 4][3 y]] + [[-1 8][5 y]] = [[4 12][8 -6]]."
      ],
      "metadata": {
        "id": "iNeVupQdLhzm"
      }
    },
    {
      "cell_type": "markdown",
      "source": [
        "R.: Dado que cij = aij + bij, tem-se que x-1 = 4 e 2y = -6. Portanto, x=5 e y = -3."
      ],
      "metadata": {
        "id": "EU8mgKieMNCe"
      }
    },
    {
      "cell_type": "markdown",
      "source": [
        "6 – Dadas as matrizes A = [[1 4][2 5][-3 6]] e B = [[1 3 4][-2 0 -3]], determine A + 2.BT."
      ],
      "metadata": {
        "id": "PASN1k6qMmm2"
      }
    },
    {
      "cell_type": "markdown",
      "source": [
        "R.: Dado que 2.Bt = [[2 -4][6 0][8 -6]], tem-se que A+2.Bt = [[3 0][8 5][5 0]]."
      ],
      "metadata": {
        "id": "qzSwlZrMM73o"
      }
    },
    {
      "cell_type": "markdown",
      "source": [
        "7- (PUC) Um batalhão do exército, resolveu codificar suas mensagens através da multiplicação de matrizes. Primeiramente, associa as letras do alfabeto aos números, segundo a correspondência abaixo considerada:\n",
        "A B C D E F G H I J L M N O P Q R S T U V W X Y Z\n",
        "1 2 3 4 5 6 7 8 9 10 11 12 13 14 15 16 17 18 19 20 21 22 23 24 25\n",
        "Desta forma, supondo que o batalhão, em questão, deseja enviar a mensagem \"PAZ\", pode-se tomar uma matriz 2x2, da forma: [[P Z][A −]], a qual, usando-se da tabela acima, será dado por: M= [[15 25] [1 0]]. Tomando-se a matriz-chave C para o código, isto é: C= [[2 1][3 2]], transmite-se a mensagem \"PAZ\" através da\n",
        "multiplicação das matrizes M e C, ou seja: M.C= [[15 25][1 0].[[2 1][3 2] = [[31 50][47 75]]. Ou através da cadeia de números 31 47 50 75. Desta forma, utilizando-se a mesma matriz-chave C, a decodificação da mensagem 51 81 9 14 será compreendida pelo batalhão como a transmissão de palavra qual palavra? E a mensagem 27 49 48 79? "
      ],
      "metadata": {
        "id": "HYJNIDPhNh-H"
      }
    }
  ]
}