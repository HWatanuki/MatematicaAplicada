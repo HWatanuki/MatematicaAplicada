{
  "nbformat": 4,
  "nbformat_minor": 0,
  "metadata": {
    "colab": {
      "name": "Aula14_HMW.ipynb",
      "provenance": [],
      "authorship_tag": "ABX9TyMUQFhB9U+px+R/TN3acrid",
      "include_colab_link": true
    },
    "kernelspec": {
      "name": "python3",
      "display_name": "Python 3"
    },
    "language_info": {
      "name": "python"
    }
  },
  "cells": [
    {
      "cell_type": "markdown",
      "metadata": {
        "id": "view-in-github",
        "colab_type": "text"
      },
      "source": [
        "<a href=\"https://colab.research.google.com/github/HWatanuki/MatematicaAplicada/blob/main/Lista_Aula08_05apr22.ipynb\" target=\"_parent\"><img src=\"https://colab.research.google.com/assets/colab-badge.svg\" alt=\"Open In Colab\"/></a>"
      ]
    },
    {
      "cell_type": "code",
      "execution_count": null,
      "metadata": {
        "id": "QO2xc3YU2_RX"
      },
      "outputs": [],
      "source": [
        "** Lista de Matrizes"
      ]
    },
    {
      "cell_type": "markdown",
      "source": [
        "1 – (FGV-2005) As meninas 1 = Adriana; 2 = Bruna e 3 = Carla falam muito ao  telefone entre si. A matriz M mostra cada elemento aij representando o número de telefonemas que “i” deu para “j” no mês de setembro:\n",
        "[[9 12 0] [18 0 6] [0 13 10]]. Quem mais telefonou e quem mais recebeu ligações? "
      ],
      "metadata": {
        "id": "gGSHG62VCMqZ"
      }
    }
  ]
}