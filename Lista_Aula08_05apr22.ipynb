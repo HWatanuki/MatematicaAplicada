{
  "nbformat": 4,
  "nbformat_minor": 0,
  "metadata": {
    "colab": {
      "name": "Aula14_HMW.ipynb",
      "provenance": [],
      "authorship_tag": "ABX9TyMNqx2UoY4UK6OInHa0tQxH",
      "include_colab_link": true
    },
    "kernelspec": {
      "name": "python3",
      "display_name": "Python 3"
    },
    "language_info": {
      "name": "python"
    }
  },
  "cells": [
    {
      "cell_type": "markdown",
      "metadata": {
        "id": "view-in-github",
        "colab_type": "text"
      },
      "source": [
        "<a href=\"https://colab.research.google.com/github/HWatanuki/MatematicaAplicada/blob/main/Lista_Aula08_05apr22.ipynb\" target=\"_parent\"><img src=\"https://colab.research.google.com/assets/colab-badge.svg\" alt=\"Open In Colab\"/></a>"
      ]
    },
    {
      "cell_type": "code",
      "execution_count": null,
      "metadata": {
        "id": "QO2xc3YU2_RX"
      },
      "outputs": [],
      "source": [
        ""
      ]
    },
    {
      "cell_type": "markdown",
      "source": [
        "Consideremos as seguintes bases do R2 : A = f(1; 1); (0;􀀀1)g e B = f(2;􀀀3); (􀀀3; 5)g.\n",
        "a) Determinar a matriz-mudança de base [I]A\n",
        "B.\n",
        "b) Utilizar a matriz obtida no item a) para calcular vB, sendo vA = (2; 3).\n",
        "c) Determinar a matriz-mudança de base de B para A."
      ],
      "metadata": {
        "id": "KU-Q44at3C_C"
      }
    }
  ]
}