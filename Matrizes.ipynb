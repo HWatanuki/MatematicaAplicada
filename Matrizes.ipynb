{
  "nbformat": 4,
  "nbformat_minor": 0,
  "metadata": {
    "colab": {
      "name": "Matrizes.ipynb",
      "provenance": [],
      "include_colab_link": true
    },
    "kernelspec": {
      "name": "python3",
      "display_name": "Python 3"
    },
    "language_info": {
      "name": "python"
    }
  },
  "cells": [
    {
      "cell_type": "markdown",
      "metadata": {
        "id": "view-in-github",
        "colab_type": "text"
      },
      "source": [
        "<a href=\"https://colab.research.google.com/github/HWatanuki/MatematicaAplicada/blob/main/Matrizes.ipynb\" target=\"_parent\"><img src=\"https://colab.research.google.com/assets/colab-badge.svg\" alt=\"Open In Colab\"/></a>"
      ]
    },
    {
      "cell_type": "markdown",
      "source": [
        "Resolução do exercício 7"
      ],
      "metadata": {
        "id": "95P0MsLZFFCh"
      }
    },
    {
      "cell_type": "code",
      "execution_count": null,
      "metadata": {
        "colab": {
          "base_uri": "https://localhost:8080/"
        },
        "id": "cQ_gEaaV-V5E",
        "outputId": "50804479-3e17-4724-ae97-0d8eb43e1e29"
      },
      "outputs": [
        {
          "output_type": "stream",
          "name": "stdout",
          "text": [
            "[' ', 'A', 'B', 'C', 'D', 'E', 'F', 'G', 'H', 'I', 'J', 'K', 'L', 'M', 'N', 'O', 'P', 'Q', 'R', 'S', 'T', 'U', 'V', 'W', 'X', 'Y', 'Z']\n"
          ]
        }
      ],
      "source": [
        "import string\n",
        "import numpy as np\n",
        "Letras = [' ']+list(string.ascii_uppercase)\n",
        "print (Letras)"
      ]
    },
    {
      "cell_type": "markdown",
      "source": [
        "Função que converte um texto em uma matriz 2 X 2"
      ],
      "metadata": {
        "id": "JUz2G6p2HUd5"
      }
    },
    {
      "cell_type": "code",
      "source": [
        "def montaMatrizMsg (msg):\n",
        "  C = np.matrix([[0,0],[0,0]])\n",
        "  C[0] = [Letras.index(msg[0]),Letras.index(msg[1])]\n",
        "  C[1] = [Letras.index(msg[2]),Letras.index(msg[3])]\n",
        "  return C  "
      ],
      "metadata": {
        "id": "z69OK5fVywEG"
      },
      "execution_count": null,
      "outputs": []
    },
    {
      "cell_type": "markdown",
      "source": [
        "Função que recupera uma mensagem a partir de sua representação matricial 2 X 2"
      ],
      "metadata": {
        "id": "z2BvjEl-K3kl"
      }
    },
    {
      "cell_type": "code",
      "source": [
        "def TextoDaMensagem(Matriz):\n",
        "  S = []\n",
        "#a inversão da matriz chave gera valores reais. Precisamos transformá-los em inteiros para usar como índice do vetor de letras\n",
        "  S = Letras[int(Matriz[0, 0])] + Letras[int(Matriz[0, 1])] + Letras[int(Matriz[1, 0])] + Letras[int(Matriz[1, 1])]  \n",
        "  return str(S)\n"
      ],
      "metadata": {
        "id": "fzN9wTNu9FY8"
      },
      "execution_count": null,
      "outputs": []
    },
    {
      "cell_type": "markdown",
      "source": [
        "Função que codifica o texto em uma matriz, usando a chave escolhida"
      ],
      "metadata": {
        "id": "V92r2huVHfMi"
      }
    },
    {
      "cell_type": "code",
      "source": [
        "def codificaMsg(Msg, MatrizChave):\n",
        "  return (montaMatrizMsg(Msg) * MatrizChave)"
      ],
      "metadata": {
        "id": "abrW4Y7W2c2y"
      },
      "execution_count": null,
      "outputs": []
    },
    {
      "cell_type": "markdown",
      "source": [
        "Função que decodifica uma matriz para obter o texto original da mensagem"
      ],
      "metadata": {
        "id": "C49DSufPKQ1n"
      }
    },
    {
      "cell_type": "code",
      "source": [
        "def decodificaMsg(MsgCod, MatrizChave):\n",
        "  Msg = MsgCod * np.linalg.inv(MatrizChave)\n",
        "  return TextoDaMensagem (Msg)"
      ],
      "metadata": {
        "id": "Rkm75MCP4nkW"
      },
      "execution_count": null,
      "outputs": []
    },
    {
      "cell_type": "markdown",
      "source": [
        "Escolhendo o texto da mensagem a ser codificada e a chave (em forma de matriz) que será usada"
      ],
      "metadata": {
        "id": "hFjR8VGOHFJt"
      }
    },
    {
      "cell_type": "code",
      "source": [
        "mensagem = \"LIMA\"\n",
        "Chave = np.matrix([[2,1],[4,6]])"
      ],
      "metadata": {
        "id": "ENAVs5FAEpwg"
      },
      "execution_count": null,
      "outputs": []
    },
    {
      "cell_type": "markdown",
      "source": [
        "Testando se uma mensagem codificada é decodificada corretamente"
      ],
      "metadata": {
        "id": "Y_CvtSQ_LOJr"
      }
    },
    {
      "cell_type": "code",
      "source": [
        "print(decodificaMsg(codificaMsg(mensagem, Chave), Chave))"
      ],
      "metadata": {
        "colab": {
          "base_uri": "https://localhost:8080/"
        },
        "id": "KDcGRVzmA3__",
        "outputId": "db7e4af0-d9bf-49e0-b12d-590a2cc58700"
      },
      "execution_count": null,
      "outputs": [
        {
          "output_type": "stream",
          "name": "stdout",
          "text": [
            "LIMA\n"
          ]
        }
      ]
    },
    {
      "cell_type": "code",
      "source": [
        "V = np.array([[1,2],[3,4]])\n",
        "print(V.T)"
      ],
      "metadata": {
        "colab": {
          "base_uri": "https://localhost:8080/"
        },
        "id": "T_fmLh2MCgn7",
        "outputId": "f055b48c-6434-4a8c-b3f0-54f2ac5beb36"
      },
      "execution_count": null,
      "outputs": [
        {
          "output_type": "stream",
          "name": "stdout",
          "text": [
            "[[1 3]\n",
            " [2 4]]\n"
          ]
        }
      ]
    }
  ]
}