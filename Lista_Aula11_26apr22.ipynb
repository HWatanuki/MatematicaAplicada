{
  "nbformat": 4,
  "nbformat_minor": 0,
  "metadata": {
    "colab": {
      "name": "Aula14_HMW.ipynb",
      "provenance": []
    },
    "kernelspec": {
      "name": "python3",
      "display_name": "Python 3"
    },
    "language_info": {
      "name": "python"
    }
  },
  "cells": [
    {
      "cell_type": "code",
      "execution_count": null,
      "metadata": {
        "id": "QO2xc3YU2_RX"
      },
      "outputs": [],
      "source": [
        "** Lista de Espaço Vetorial"
      ]
    },
    {
      "cell_type": "markdown",
      "source": [
        "1) Verifique se o conjunto A = [[0 b][a 0]] E M(2,2) | a,b E R com as operações usuais é um espaço vetorial."
      ],
      "metadata": {
        "id": "gGSHG62VCMqZ"
      }
    },
    {
      "cell_type": "markdown",
      "source": [
        "R.: Considerando u = [[0 u1][u2 0]], v = [[0 v1][v2 0]] e w = [[0 w1][w2 0]], então:\n",
        "\n",
        "a) (u+v) + w = u + (v+w)\n",
        "b) u + v = v + u \n",
        "c) u + 0 = u\n",
        "d) u + (-u) = 0\n",
        "e) (alfa.beta).u = alfa.(beta.u)\n",
        "f) (alfa+beta).u = alfa.u + beta.u\n",
        "g) alfa.(u+v) = alfa.u + alfa.v\n",
        "h) 1u = u\n",
        "\n",
        "Portanto, A é um espaço vetorial.\n"
      ],
      "metadata": {
        "id": "gCHh7UUSC7Iq"
      }
    },
    {
      "cell_type": "markdown",
      "source": [
        "2) O conjunto S = (x,y) | x+3y = 0 é um subconjunto do R2. Verifique se é um subespaço vetorial relativo às operações de adição e multiplicação por escalar usuais."
      ],
      "metadata": {
        "id": "4oIf4U-KDvpY"
      }
    },
    {
      "cell_type": "markdown",
      "source": [
        "R.: Considerando u = (u1,-u1/3) e v = (v1,-v1/3), então:\n",
        "\n",
        "a) u+v = (u1+v1,-(u1+v1)/3) E S\n",
        "b) alfa.u = (alfa.u1, -(alfa.u1)/3) E S \n",
        "\n",
        "Portanto, S é um subespaço vetorial."
      ],
      "metadata": {
        "id": "TWESd6jrMeeg"
      }
    },
    {
      "cell_type": "markdown",
      "source": [
        "3) Sejam os vetores u = (2,-3,2) e v = (-1,2,4) em R3.\n",
        "a) Escrever o vetor w = (7,-11,2) como combinação linear de u e v.\n",
        "b) Para que valor de k o vetor (-8,14,k) é combinação linear de u e v?\n",
        "c) Determinar uma condição entre a, b e c para que o vetor (a,b,c) seja uma combinação linear de u e v.\n"
      ],
      "metadata": {
        "id": "s35A38QRDxyR"
      }
    },
    {
      "cell_type": "markdown",
      "source": [
        "R.: \n",
        "a) Considerando w = a1.u + a2.v\n",
        "(7,-11,2) = (2.a1,-3.a1,2.a1) + (-1a2,2.a2,4a2)\n",
        "(7,-11,2) = (2a1-a2,-3a1+2a2,2a1+4a2)\n",
        "\n",
        "Tem-se que a1 = 3 e a2 =-1. Portanto: w = 3.u-1.v\n",
        "\n",
        "b) Considerando que (-8,14,k) = a1.u + a2.v, então tem-se que \n",
        "(-8,14,k) = (2.a1,-3.a1,2.a1) + (-1a2,2.a2,4a2)\n",
        "(-8,14,k) = (2a1-a2,-3a1+2a2,2a1+4a2)\n",
        "\n",
        "E, portanto, k = 12\n"
      ],
      "metadata": {
        "id": "wxEm7gkHFuam"
      }
    },
    {
      "cell_type": "markdown",
      "source": [
        "4 - (FGV-2004) Uma matriz X possui elementos cuja soma vale 1. Se X.[[1 -1][-1 1]].Xt = [1], onde Xt é a transposta de X, calacule o produto dos elementos de X.\n"
      ],
      "metadata": {
        "id": "sVLWo-DOH6hK"
      }
    },
    {
      "cell_type": "markdown",
      "source": [
        "R.: Considerando que X deve ser do tipo n x 2 e Xt deve ser do tipo 2 x n e que a matriz resultante do produto deve ser do tipo 1 x 1, tem-se que n = 1. Portanto, resolvendo os produtos matriciais, obtem-se X = [[0 1]] e o produto dos elementos de X é zero."
      ],
      "metadata": {
        "id": "lT4-GYCwIX6R"
      }
    },
    {
      "cell_type": "markdown",
      "source": [
        "5 – Determine x e y na igualdade [[x 4][3 y]] + [[-1 8][5 y]] = [[4 12][8 -6]]."
      ],
      "metadata": {
        "id": "iNeVupQdLhzm"
      }
    },
    {
      "cell_type": "markdown",
      "source": [
        "R.: Dado que cij = aij + bij, tem-se que x-1 = 4 e 2y = -6. Portanto, x=5 e y = -3."
      ],
      "metadata": {
        "id": "EU8mgKieMNCe"
      }
    },
    {
      "cell_type": "markdown",
      "source": [
        "6 – Dadas as matrizes A = [[1 4][2 5][-3 6]] e B = [[1 3 4][-2 0 -3]], determine A + 2.BT."
      ],
      "metadata": {
        "id": "PASN1k6qMmm2"
      }
    },
    {
      "cell_type": "markdown",
      "source": [
        "R.: Dado que 2.Bt = [[2 -4][6 0][8 -6]], tem-se que A+2.Bt = [[3 0][8 5][5 0]]."
      ],
      "metadata": {
        "id": "qzSwlZrMM73o"
      }
    },
    {
      "cell_type": "markdown",
      "source": [
        "7- (PUC) Um batalhão do exército, resolveu codificar suas mensagens através da multiplicação de matrizes. Primeiramente, associa as letras do alfabeto aos números, segundo a correspondência abaixo considerada:\n",
        "A B C D E F G H I J L M N O P Q R S T U V W X Y Z\n",
        "1 2 3 4 5 6 7 8 9 10 11 12 13 14 15 16 17 18 19 20 21 22 23 24 25\n",
        "Desta forma, supondo que o batalhão, em questão, deseja enviar a mensagem \"PAZ\", pode-se tomar uma matriz 2x2, da forma: [[P Z][A −]], a qual, usando-se da tabela acima, será dado por: M= [[15 25] [1 0]]. Tomando-se a matriz-chave C para o código, isto é: C= [[2 1][3 2]], transmite-se a mensagem \"PAZ\" através da\n",
        "multiplicação das matrizes M e C, ou seja: M.C= [[15 25][1 0].[[2 1][3 2] = [[31 50][47 75]]. Ou através da cadeia de números 31 47 50 75. Desta forma, utilizando-se a mesma matriz-chave C, a decodificação da mensagem 51 81 9 14 será compreendida pelo batalhão como a transmissão de palavra qual palavra? E a mensagem 27 49 48 79? "
      ],
      "metadata": {
        "id": "HYJNIDPhNh-H"
      }
    },
    {
      "cell_type": "markdown",
      "source": [
        "R.: Dado que a matriz da mensagem decodificada pode ser obtida por meio da multiplicação da matriz da mensagem codificada pela inversa da matriz da chave, tem-se que a mensagem 51 81 9 14 corresponderia à matriz decodificada [[21 4][9 1] e, portanto, à palavra \"VIDA\". Já a mensagem 27 49 48 79 corresponderia à matriz decodificada [[5 17][17 14]] e, portanto, à palavra \"ERRO\"."
      ],
      "metadata": {
        "id": "reP2S3KnOJWk"
      }
    }
  ]
}