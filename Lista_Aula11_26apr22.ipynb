{
  "nbformat": 4,
  "nbformat_minor": 0,
  "metadata": {
    "colab": {
      "name": "Aula14_HMW.ipynb",
      "provenance": []
    },
    "kernelspec": {
      "name": "python3",
      "display_name": "Python 3"
    },
    "language_info": {
      "name": "python"
    }
  },
  "cells": [
    {
      "cell_type": "code",
      "execution_count": null,
      "metadata": {
        "id": "QO2xc3YU2_RX"
      },
      "outputs": [],
      "source": [
        "** Lista de Espaço Vetorial"
      ]
    },
    {
      "cell_type": "markdown",
      "source": [
        "1) Verifique se o conjunto A ={[[0 b][a 0]] E M(2,2) | a,b E R} com as operações usuais é um espaço vetorial."
      ],
      "metadata": {
        "id": "gGSHG62VCMqZ"
      }
    },
    {
      "cell_type": "markdown",
      "source": [
        "R.: Considerando u = [[0 u1][u2 0]], v = [[0 v1][v2 0]] e w = [[0 w1][w2 0]], então:\n",
        "\n",
        "a) (u+v) + w = u + (v+w)\n",
        "b) u + v = v + u \n",
        "c) u + 0 = u\n",
        "d) u + (-u) = 0\n",
        "e) (alfa.beta).u = alfa.(beta.u)\n",
        "f) (alfa+beta).u = alfa.u + beta.u\n",
        "g) alfa.(u+v) = alfa.u + alfa.v\n",
        "h) 1u = u\n",
        "\n",
        "Portanto, A é um espaço vetorial.\n"
      ],
      "metadata": {
        "id": "gCHh7UUSC7Iq"
      }
    },
    {
      "cell_type": "markdown",
      "source": [
        "2) O conjunto S = {(x,y) | x+3y = 0} é um subconjunto do R2. Verifique se é um subespaço vetorial relativo às operações de adição e multiplicação por escalar usuais."
      ],
      "metadata": {
        "id": "4oIf4U-KDvpY"
      }
    },
    {
      "cell_type": "markdown",
      "source": [
        "R.: Considerando u = (u1,-u1/3) e v = (v1,-v1/3), então:\n",
        "\n",
        "a) u+v = (u1+v1,-(u1+v1)/3) E S\n",
        "b) alfa.u = (alfa.u1, -(alfa.u1)/3) E S \n",
        "\n",
        "Portanto, S é um subespaço vetorial."
      ],
      "metadata": {
        "id": "TWESd6jrMeeg"
      }
    },
    {
      "cell_type": "markdown",
      "source": [
        "3) Sejam os vetores u = (2,-3,2) e v = (-1,2,4) em R3.\n",
        "a) Escrever o vetor w = (7,-11,2) como combinação linear de u e v.\n",
        "b) Para que valor de k o vetor (-8,14,k) é combinação linear de u e v?\n",
        "c) Determinar uma condição entre a, b e c para que o vetor (a,b,c) seja uma combinação linear de u e v.\n"
      ],
      "metadata": {
        "id": "s35A38QRDxyR"
      }
    },
    {
      "cell_type": "markdown",
      "source": [
        "R.: \n",
        "a) Considerando w = a1.u + a2.v\n",
        "(7,-11,2) = (2.a1,-3.a1,2.a1) + (-1a2,2.a2,4a2)\n",
        "(7,-11,2) = (2a1-a2,-3a1+2a2,2a1+4a2)\n",
        "\n",
        "Tem-se que a1 = 3 e a2 =-1. Portanto: w = 3.u-1.v\n",
        "\n",
        "b) Considerando (-8,14,k) = a1.u + a2.v, então tem-se que \n",
        "(-8,14,k) = (2.a1,-3.a1,2.a1) + (-1a2,2.a2,4a2)\n",
        "(-8,14,k) = (2a1-a2,-3a1+2a2,2a1+4a2)\n",
        "\n",
        "E, portanto, k = 12\n",
        "\n",
        "c) Considerando (a,b,c) = a1.u + a2.v, então tem-se que\n",
        "(a,b,c) = (2.a1,-3.a1,2.a1) + (-1a2,2.a2,4a2)\n",
        "(a,b,c) = (2a1-a2,-3a1+2a2,2a1+4a2)\n",
        "\n",
        "E, portanto, 14a + 5b + c = 0"
      ],
      "metadata": {
        "id": "wxEm7gkHFuam"
      }
    },
    {
      "cell_type": "markdown",
      "source": [
        "4) Seja o conjunto A = (v1,v2), sendo v1 = (-1, 3, -1) e v2 = (1,-2, 4). Determinar\n",
        "a) O subespaço G(A).\n",
        "b) O valor de k para que o vetor v = (5, k, 11) pertença a G(A)."
      ],
      "metadata": {
        "id": "sVLWo-DOH6hK"
      }
    },
    {
      "cell_type": "markdown",
      "source": [
        "R.: \n",
        "a) Considerando w = a1.v1 + a2.v2, então (x,y,z) = (-a1+a2,3a1-2a2,-a1+4a2) e, portanto, 10x+3y-z=0 constitui o G(A).\n",
        "\n",
        "b) Considerando que (5,k,11) E G(A), então 10.5+3k-11=0 e, portanto, k = -13\n"
      ],
      "metadata": {
        "id": "lT4-GYCwIX6R"
      }
    },
    {
      "cell_type": "markdown",
      "source": [
        "5) Verificar quais dos seguintes vetores formam uma base do R2.\n",
        "a) {(1, 2),(-1,3)}\n",
        "b) {(3,-6),(-4,8)}\n",
        "c) {(0,0),(2,3)}\n",
        "d) {(3,-1),(2,3)}"
      ],
      "metadata": {
        "id": "iNeVupQdLhzm"
      }
    },
    {
      "cell_type": "markdown",
      "source": [
        "R.: \n",
        "a) Para a(1,2) + b(-1,3) = (0,0), tem-se que a=b=0. Portanto os vetores são LI.\n",
        "Para (x,y)=a(1,2) + b(-1,3), tem-se que a=(3x-y)/5 e b=(y-2x)/5\n",
        "Portanto, {(1, 2),(-1,3)} é uma base do R2.\n",
        "\n",
        "b) Para a(3,-6) + b(-4,8) = (0,0), tem-se que a e b são indeterminados. Portanto os vetores podem ser LD e {(3,-6),(-4,8)} não pode ser considerada uma base do R2.\n",
        "\n",
        "c) Para a(0,0) + b(2,3) = (0,0), tem-se que a é indeterminado. Portanto os vetores podem ser LD e {(0,0),(2,3)}  não pode ser considerada uma base do R2.\n",
        "\n",
        "d)"
      ],
      "metadata": {
        "id": "EU8mgKieMNCe"
      }
    },
    {
      "cell_type": "markdown",
      "source": [
        "6) Determinar a dimensão e uma base para o espaço-solução do sistema S =\n",
        "x + 2y - 2z - t = 0\n",
        "2x + 4y + z + t = 0\n",
        "x + 2y + 3z + 2t = 0"
      ],
      "metadata": {
        "id": "PASN1k6qMmm2"
      }
    },
    {
      "cell_type": "markdown",
      "source": [
        "R.: Isolando-se z e x, tem-se que z=-3t/5 e x=(-t-10y)/5. Portanto, o espaço-solução pode ser representado como (-t-10y)/5,y,-3t/5,t), o qual contém duas variáveis. Portando, a dimensão do espaço solução é 2 (dois).\n",
        "\n",
        "Nesse caso, a base é constituída por dois vetores. \n",
        "Considerando-se y=0 e t=5, tem-se (-1,0,-3,5)\n",
        "Considerando-se y=-1 e t=5, tem-se (1,-1,-3,5) \n",
        "E, portanto, uma base seria representada por {(1,0,3,-5),(1,-1,-3,5)}"
      ],
      "metadata": {
        "id": "qzSwlZrMM73o"
      }
    }
  ]
}