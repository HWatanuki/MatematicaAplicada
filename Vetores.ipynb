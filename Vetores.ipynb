{
  "nbformat": 4,
  "nbformat_minor": 0,
  "metadata": {
    "colab": {
      "name": "Vetores",
      "provenance": [],
      "include_colab_link": true
    },
    "kernelspec": {
      "name": "python3",
      "display_name": "Python 3"
    },
    "language_info": {
      "name": "python"
    }
  },
  "cells": [
    {
      "cell_type": "markdown",
      "metadata": {
        "id": "view-in-github",
        "colab_type": "text"
      },
      "source": [
        "<a href=\"https://colab.research.google.com/github/HWatanuki/MatematicaAplicada/blob/main/Vetores.ipynb\" target=\"_parent\"><img src=\"https://colab.research.google.com/assets/colab-badge.svg\" alt=\"Open In Colab\"/></a>"
      ]
    },
    {
      "cell_type": "markdown",
      "source": [
        "Para a manipulação de valores matemáticos, a biblioteca usada será a NumPy"
      ],
      "metadata": {
        "id": "LjBPD1GIVQmn"
      }
    },
    {
      "cell_type": "code",
      "execution_count": null,
      "metadata": {
        "id": "uGdKvQQvqtXQ"
      },
      "outputs": [],
      "source": [
        "import numpy as np"
      ]
    },
    {
      "cell_type": "markdown",
      "source": [
        "Os vetores podem ser Linhas ou Colunas, mas convém transformarmos em Arrays do NumPy antes de usar"
      ],
      "metadata": {
        "id": "pXJ12oIPVfgZ"
      }
    },
    {
      "cell_type": "code",
      "source": [
        "lista1 = [1,2,3]\n",
        "lista2 = [[10],\n",
        "          [20],\n",
        "          [30]]"
      ],
      "metadata": {
        "id": "b8Sc9pdK8ixf"
      },
      "execution_count": null,
      "outputs": []
    },
    {
      "cell_type": "code",
      "source": [
        "vetor1 = np.array(lista1)\n",
        "vetor2 = np.array(lista2)"
      ],
      "metadata": {
        "id": "syk0ZJra8ygo"
      },
      "execution_count": null,
      "outputs": []
    },
    {
      "cell_type": "code",
      "source": [
        "print (\"Vetor Linha\")\n",
        "print (vetor1)\n",
        "print(\"--------------\")\n",
        "print (\"Vetor Coluna\")\n",
        "print (vetor2)"
      ],
      "metadata": {
        "id": "k5cYUvjh86fJ",
        "colab": {
          "base_uri": "https://localhost:8080/"
        },
        "outputId": "0ab6f89b-4bf8-429b-ed9d-93559a2a6a5d"
      },
      "execution_count": null,
      "outputs": [
        {
          "output_type": "stream",
          "name": "stdout",
          "text": [
            "Vetor Linha\n",
            "[1 2 3]\n",
            "--------------\n",
            "Vetor Coluna\n",
            "[[10]\n",
            " [20]\n",
            " [30]]\n"
          ]
        }
      ]
    },
    {
      "cell_type": "markdown",
      "source": [
        "Vamos usar outros vetores para as operações:"
      ],
      "metadata": {
        "id": "3EBln8ByV8F7"
      }
    },
    {
      "cell_type": "code",
      "source": [
        "lista3 = [5,6,9]\n",
        "lista4 = [1,2,3]\n",
        "vetor3 = np.array(lista3)\n",
        "vetor4 = np.array(lista4)"
      ],
      "metadata": {
        "id": "wRJV8Xv59clm"
      },
      "execution_count": null,
      "outputs": []
    },
    {
      "cell_type": "markdown",
      "source": [
        "Somar e subtrair vetores funciona de maneira direta. Multiplicação e divisão não: essas operações NÃO SÃO definidas assim com os vetores"
      ],
      "metadata": {
        "id": "rVv_yuTDWIYi"
      }
    },
    {
      "cell_type": "code",
      "source": [
        "print(\"Primeiro vetor    : \" + str(vetor3))\n",
        "print(\"Segundo vetor     : \" + str(vetor4))\n",
        "print(\"--------------\")\n",
        "soma = vetor3 + vetor4\n",
        "subtração = vetor3 - vetor4\n",
        "print(\"Soma            : \" + str(soma))\n",
        "print(\"Subtração       : \" + str(subtração))\n",
        "print(\"--------------\")\n",
        "multiplicação = vetor3 * vetor4\n",
        "divisão = vetor3/ vetor4\n",
        "print(\"Multiplicação   : \" + str(multiplicação))\n",
        "print(\"Divisão         : \" + str(divisão))"
      ],
      "metadata": {
        "id": "yXQ1w4dm91S5",
        "colab": {
          "base_uri": "https://localhost:8080/"
        },
        "outputId": "21eb1d19-04f7-4ec0-8e85-241385840d32"
      },
      "execution_count": null,
      "outputs": [
        {
          "output_type": "stream",
          "name": "stdout",
          "text": [
            "Primeiro vetor    : [5 6 9]\n",
            "Segundo vetor     : [1 2 3]\n",
            "--------------\n",
            "Soma            : [ 6  8 12]\n",
            "Subtração       : [4 4 6]\n",
            "--------------\n",
            "Multiplicação   : [ 5 12 27]\n",
            "Divisão         : [5. 3. 3.]\n"
          ]
        }
      ]
    },
    {
      "cell_type": "markdown",
      "source": [
        "No caso de \"multiplicações\", os vetores possuem três tipos de produtos"
      ],
      "metadata": {
        "id": "FuvX8pKwWecb"
      }
    },
    {
      "cell_type": "markdown",
      "source": [
        "1 - O produto escalar (ou interno), gera uma grandeza escalar"
      ],
      "metadata": {
        "id": "995VKJHtWn-Y"
      }
    },
    {
      "cell_type": "code",
      "source": [
        "produto_escalar = vetor3.dot(vetor4)\n",
        "print (\"Produto Escalar        : \", str(produto_escalar))"
      ],
      "metadata": {
        "id": "FU6IKiXibhgK",
        "colab": {
          "base_uri": "https://localhost:8080/"
        },
        "outputId": "6e05d75e-304c-4596-90ac-0655412b7d98"
      },
      "execution_count": null,
      "outputs": [
        {
          "output_type": "stream",
          "name": "stdout",
          "text": [
            "Produto Escalar        :  44\n"
          ]
        }
      ]
    },
    {
      "cell_type": "markdown",
      "source": [
        "2 - A multiplicação POR UM ESCALAR simplesmente muda o tamanho do vetor:"
      ],
      "metadata": {
        "id": "Kv_FAsk8XW_P"
      }
    },
    {
      "cell_type": "code",
      "source": [
        "escalar = 2\n",
        "multiplicação_por_escalar = vetor3 * escalar\n",
        "print (\"Multiplicação por escalar       : \", str(multiplicação_por_escalar))"
      ],
      "metadata": {
        "id": "ca9rfmhgcNyk",
        "colab": {
          "base_uri": "https://localhost:8080/"
        },
        "outputId": "ff8ca5b9-e0b6-43aa-cd5f-ee9885711801"
      },
      "execution_count": null,
      "outputs": [
        {
          "output_type": "stream",
          "name": "stdout",
          "text": [
            "Multiplicação por escalar       :  [10 12 18]\n"
          ]
        }
      ]
    },
    {
      "cell_type": "markdown",
      "source": [
        "Vamos plotar um gráfico da multiplicação por escalar"
      ],
      "metadata": {
        "id": "ewuKOAmlc4yA"
      }
    },
    {
      "cell_type": "code",
      "source": [
        "# importando o matplotlib para o gráfico\n",
        "import matplotlib.pyplot as plt\n",
        "  \n",
        "origin =[0], [0]\n",
        "plt.grid()\n",
        "plt.ticklabel_format(style ='sci',axis ='both', \n",
        "                     scilimits =(0, 0))\n",
        "plt.quiver(*origin,  *vetor3, scale = 50)\n",
        "plt.quiver(*origin, *multiplicação_por_escalar, scale = 50)\n",
        "plt.show()"
      ],
      "metadata": {
        "id": "5Hi4b2yueNOB",
        "colab": {
          "base_uri": "https://localhost:8080/",
          "height": 289
        },
        "outputId": "0a03ed61-3543-495d-a199-23fffae045e4"
      },
      "execution_count": null,
      "outputs": [
        {
          "output_type": "display_data",
          "data": {
            "text/plain": [
              "<Figure size 432x288 with 1 Axes>"
            ],
            "image/png": "[encoded data removed]"
          },
          "metadata": {
            "needs_background": "light"
          }
        }
      ]
    },
    {
      "cell_type": "markdown",
      "source": [
        "O produto vetorial gera um novo vetor, ortogonal aos dois fatores e com direção dada pela \"regra da mão direita\""
      ],
      "metadata": {
        "id": "0E-hiPEJXjuh"
      }
    },
    {
      "cell_type": "code",
      "source": [
        "produto_vetorial = np.cross(vetor3, vetor4)\n",
        "print (\"Produto Vetorial         : \", str(produto_vetorial))"
      ],
      "metadata": {
        "colab": {
          "base_uri": "https://localhost:8080/"
        },
        "id": "pYQU8TZAdqCB",
        "outputId": "7b1a618f-3f24-437b-de62-a6d160b6b656"
      },
      "execution_count": null,
      "outputs": [
        {
          "output_type": "stream",
          "name": "stdout",
          "text": [
            "Produto Vetorial         :  [ 0 -6  4]\n"
          ]
        }
      ]
    }
  ]
}