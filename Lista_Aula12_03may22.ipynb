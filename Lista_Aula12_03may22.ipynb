{
  "nbformat": 4,
  "nbformat_minor": 0,
  "metadata": {
    "colab": {
      "name": "Lista_Aula12_03may22.ipynb",
      "provenance": [],
      "authorship_tag": "ABX9TyMN7bMtiHNqfUkm7w8y23EC",
      "include_colab_link": true
    },
    "kernelspec": {
      "name": "python3",
      "display_name": "Python 3"
    },
    "language_info": {
      "name": "python"
    }
  },
  "cells": [
    {
      "cell_type": "markdown",
      "metadata": {
        "id": "view-in-github",
        "colab_type": "text"
      },
      "source": [
        "<a href=\"https://colab.research.google.com/github/HWatanuki/MatematicaAplicada/blob/main/Lista_Aula12_03may22.ipynb\" target=\"_parent\"><img src=\"https://colab.research.google.com/assets/colab-badge.svg\" alt=\"Open In Colab\"/></a>"
      ]
    },
    {
      "cell_type": "markdown",
      "source": [
        "1. Dada a transformação linear T : V -> W, tal que T(u) = 3u e T(v) = u - v, calcular em função de u e v"
      ],
      "metadata": {
        "id": "GJpJxd7a6bpT"
      }
    },
    {
      "cell_type": "markdown",
      "source": [
        "a) T(u+v) = T(u)+T(v) = 3u + u -v = 4 u -v"
      ],
      "metadata": {
        "id": "qDNP9jwe6t4N"
      }
    },
    {
      "cell_type": "markdown",
      "source": [
        "b) T(3u) = 3xT(u) = 3x3u = 9u "
      ],
      "metadata": {
        "id": "4DiM7MCg7A_2"
      }
    },
    {
      "cell_type": "markdown",
      "source": [
        "c) T(4u-5v) = T(4u)-T(5v) = 4xT(u)-5xT(v) = 4x3u-5x(u-v) = 12u-5u+5v = 7u+5v"
      ],
      "metadata": {
        "id": "ZUuDuS4n7RVy"
      }
    },
    {
      "cell_type": "code",
      "source": [
        ""
      ],
      "metadata": {
        "id": "17QLifyc6r7q"
      },
      "execution_count": null,
      "outputs": []
    }
  ]
}