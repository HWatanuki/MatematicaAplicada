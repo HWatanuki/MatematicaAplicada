{
  "nbformat": 4,
  "nbformat_minor": 0,
  "metadata": {
    "colab": {
      "name": "Lista_Aula12_03may22.ipynb",
      "provenance": [],
      "authorship_tag": "ABX9TyNKsDq1BLyxdHcfeTg6oRmK",
      "include_colab_link": true
    },
    "kernelspec": {
      "name": "python3",
      "display_name": "Python 3"
    },
    "language_info": {
      "name": "python"
    }
  },
  "cells": [
    {
      "cell_type": "markdown",
      "metadata": {
        "id": "view-in-github",
        "colab_type": "text"
      },
      "source": [
        "<a href=\"https://colab.research.google.com/github/HWatanuki/MatematicaAplicada/blob/main/Lista_Aula12_03may22.ipynb\" target=\"_parent\"><img src=\"https://colab.research.google.com/assets/colab-badge.svg\" alt=\"Open In Colab\"/></a>"
      ]
    },
    {
      "cell_type": "markdown",
      "source": [
        "1. Dada a transformação linear T : V -> W, tal que T(u) = 3u e T(v) = u - v, calcular em função de u e v"
      ],
      "metadata": {
        "id": "GJpJxd7a6bpT"
      }
    },
    {
      "cell_type": "markdown",
      "source": [
        "a) T(u+v) = T(u)+T(v) = 3u+u-v = 4u-v"
      ],
      "metadata": {
        "id": "qDNP9jwe6t4N"
      }
    },
    {
      "cell_type": "markdown",
      "source": [
        "b) T(3u) = 3xT(u) = 3x3u = 9u "
      ],
      "metadata": {
        "id": "4DiM7MCg7A_2"
      }
    },
    {
      "cell_type": "markdown",
      "source": [
        "c) T(4u-5v) = T(4u)-T(5v) = 4xT(u)-5xT(v) = 4x3u-5x(u-v) = 12u-5u+5v = 7u+5v"
      ],
      "metadata": {
        "id": "ZUuDuS4n7RVy"
      }
    },
    {
      "cell_type": "markdown",
      "source": [
        "2. Seja a aplicação T : R2 -> R3, definida por T(x, y) = (x + ky, x + k, y). Verificar em que caso(s) T é linear."
      ],
      "metadata": {
        "id": "M8uWPP138see"
      }
    },
    {
      "cell_type": "markdown",
      "source": [
        "a) Se k=x então T não é linear, pois nesse caso T(x,y) = (x+xy,2x,y) e:\n",
        "- T(u+v) = T(x1+x2,y1+y2) = ((x1+x2)+(x1+x2)(y1+y2),2(x1+x2),y1+y2) = (x1+x2+x1y1+x1y2+x2y1+x2y2,2x1+2x2,y1+y2) = (x1+x1y1+x1y2,2x1,y1) + (x2+x2y2+x2y1,2x2,y2) =! T(u) + T(v)"
      ],
      "metadata": {
        "id": "9XivcDpSBaFO"
      }
    },
    {
      "cell_type": "markdown",
      "source": [
        "b) Se k=1 então T não é linear, pois nesse caso T(x,y) = (x+y,x+1,y) e:\n",
        "- T(u+v) = T(x1+x2,y1+y2) = (x1+x2+y1+y2,x1+x2+1,y1+y2) = (x1+y1,x1+1,y1)+(x2+y2,x2,y2) =! T(u) + T(v)\n"
      ],
      "metadata": {
        "id": "bRrZnCAG_6bB"
      }
    },
    {
      "cell_type": "markdown",
      "source": [
        "c) Se k=0 então T é linear, pois nesse caso T(x,y) = (x,x,y) e:\n",
        "- T(u+v) = T(x1+x2,y1+y2) = (x1+x2,x1+x2,y1+y2) = (x1,x1,y1)+(x2,x2,y2) = T(u) + T(v)\n",
        "- T(au) = T(ax1,ay1) = (ax1,ax1,ay1) = a(x1,x1,y1) = aT(u)\n"
      ],
      "metadata": {
        "id": "otP9dsAr-Nwg"
      }
    },
    {
      "cell_type": "markdown",
      "source": [
        "3. Seja T : R2 -> R3 uma transformação linear definida por T(-2, 3) = (-1, 0, 1) e T(1,-2) = (0,-1, 0)."
      ],
      "metadata": {
        "id": "xN8xApqFClPW"
      }
    },
    {
      "cell_type": "markdown",
      "source": [
        "a) Determinar T(x, y).\n",
        "\n",
        "Se T(u,v)=[[-1,0,1],[0,-1,0]] e T(u,v)=A(u,v), então A=T(u,v)*1/(u,v), ou seja, A = [[-1,0,1],[0,-1,0]] * [[-2,-3],[-1,-2]]\n",
        "Resultando em A=[2x+y,3x+2y,-2x-y]"
      ],
      "metadata": {
        "id": "xyH1eF-YC1-n"
      }
    },
    {
      "cell_type": "markdown",
      "source": [
        "b) Determinar N(T) e Im(T)."
      ],
      "metadata": {
        "id": "6u7_Q8NdC3zq"
      }
    }
  ]
}