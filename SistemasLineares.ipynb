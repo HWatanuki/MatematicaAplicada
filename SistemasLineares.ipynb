{
  "nbformat": 4,
  "nbformat_minor": 0,
  "metadata": {
    "colab": {
      "name": "SistemasLineares.ipynb",
      "provenance": [],
      "include_colab_link": true
    },
    "kernelspec": {
      "name": "python3",
      "display_name": "Python 3"
    },
    "language_info": {
      "name": "python"
    }
  },
  "cells": [
    {
      "cell_type": "markdown",
      "metadata": {
        "id": "view-in-github",
        "colab_type": "text"
      },
      "source": [
        "<a href=\"https://colab.research.google.com/github/HWatanuki/MatematicaAplicada/blob/main/SistemasLineares.ipynb\" target=\"_parent\"><img src=\"https://colab.research.google.com/assets/colab-badge.svg\" alt=\"Open In Colab\"/></a>"
      ]
    },
    {
      "cell_type": "markdown",
      "source": [
        "Uma regressão linear múltipla pode ser um exemplo de um sistema de equações lineares\n",
        "Aqui vamos usar um método direto de solução, o método da eliminação de Gauss."
      ],
      "metadata": {
        "id": "W5zbK0WnazeX"
      }
    },
    {
      "cell_type": "code",
      "execution_count": null,
      "metadata": {
        "id": "NkJssbyX9FgH"
      },
      "outputs": [],
      "source": [
        "import numpy as np\n",
        "from scipy.linalg import solve"
      ]
    },
    {
      "cell_type": "markdown",
      "source": [
        "$E_0 : 2x_0 + x_1 + 5x_2 = 8$\n",
        "\n",
        "$E_1 : 4x_0 + 4x_1 - 4x_2 = 4$\n",
        "\n",
        "$E_2 : x_0 + 3x_1 + x_2 = 5$\n"
      ],
      "metadata": {
        "id": "oQ0sfnnJAuND"
      }
    },
    {
      "cell_type": "code",
      "source": [
        "A = np.array ([[2,1,5], [4,4,-4], [1,3,1]])\n",
        "b = np.array ([8,4,5])"
      ],
      "metadata": {
        "id": "GC-kf__4KBOa"
      },
      "execution_count": null,
      "outputs": []
    },
    {
      "cell_type": "markdown",
      "source": [
        "\n",
        "$A = \\left[ \\begin {array}{ccc} 2 & 1 & 5\\\\ 4 & 4 & -4\\\\1 & 3 & 1\\end{array}\\right]x =\\left[ \\begin{array}{c}  x_0 \\\\ x_1 \\\\ x_2\\end{array} \\right] b=  \\left[ \\begin{array}{c}  8 \\\\ 4 \\\\5\\end{array} \\right]$"
      ],
      "metadata": {
        "id": "6Yv5sl4jGi8c"
      }
    },
    {
      "cell_type": "markdown",
      "source": [
        "***Queremos obter uma matriz escalonada: ***\n",
        "\n",
        "$\\left[ \\begin {array}{ccc} 4 & 4 & -4\\\\ 0 & 2 & 2\\\\0 & 0 & 8\\end{array}\\right] $"
      ],
      "metadata": {
        "id": "lO1zbH2OO3Z7"
      }
    },
    {
      "cell_type": "markdown",
      "source": [
        "A ideia é esta, por coluna: \n",
        "\n",
        "*   começamos com o valor do pivot na primeira linha e na primeira coluna: linha = 0, coluna = 0\n",
        "*   encontramos o valor máximo absoluto na coluna do pivot. Se todos os valores nesta coluna forem nulos, paramos. Senão, trocamos $E_0\\space  por\\space   E_1$\n",
        "\n",
        "Assim, ao percorrermos todas as colunas, teremos uma matriz triangular \n",
        "\n",
        "\n",
        "\n",
        "\n"
      ],
      "metadata": {
        "id": "tmBa7Y6YQWjA"
      }
    },
    {
      "cell_type": "code",
      "source": [
        "def gaussiana_parcial(A, b):\n",
        "  n = A.shape[0]\n",
        "  C = np.c_[A, b.reshape(-1,1)]\n",
        "  flag = 0\n",
        "#percorre as colunas\n",
        "  for i in range(n-1):       \n",
        "      max_c, chosen_k  = 0, i\n",
        "        \n",
        "#encontra o pivot da coluna da vez\n",
        "      for k in range(i, n):\n",
        "            if np.abs(C[k,i]) > max_c:\n",
        "                max_c = np.abs(C[k,i])\n",
        "                chosen_k = k\n",
        "         \n",
        "#verifica se o pivot é zero. Se for, há um vetor nulo ou não LI \n",
        "      if max_c == 0:\n",
        "          flag = 1\n",
        "          break\n",
        "\n",
        "#altera a ordem das linhas se não for a do máximo\n",
        "      if chosen_k != i:\n",
        "#troca duas linhas\n",
        "          temp = C[i,:].copy()\n",
        "          C[i,:] = C[chosen_k,:]\n",
        "          C[chosen_k,:] = temp\n",
        "#percorre a linha e faz a subtração\n",
        "      for j in range(i+1, n):        \n",
        "          c = C[j,i]/C[i,i]\n",
        "          C[j,:] = C[j,:] - c*C[i,:] \n",
        "\n",
        "  return C, flag         \n"
      ],
      "metadata": {
        "id": "nelU62CIKvrA"
      },
      "execution_count": null,
      "outputs": []
    },
    {
      "cell_type": "markdown",
      "source": [
        "Chegaremos a um sistema de equações \n",
        "\n",
        "$4x_0 + 4x_1 - 4x_2 = 4$\n",
        "\n",
        "$\\hspace{1.5cm}2x_1 + 2x_2 = 4$\n",
        "\n",
        "$\\hspace{3cm}8x_2 = 8$\n",
        "\n",
        "e agora fica muito fácil resolver usando retrosubstituição (substituir os valores já conhecidos, um a um)"
      ],
      "metadata": {
        "id": "LUDJhVQ1THOX"
      }
    },
    {
      "cell_type": "code",
      "source": [
        "def retrosubstitut(T):\n",
        "    flag=0\n",
        "    n = T.shape[0]\n",
        "    X = np.zeros((n))\n",
        "# se o coeficiente for nulo, não há solução única\n",
        "    if T[n-1,n-1] == 0:\n",
        "        flag = 1 \n",
        "#caso contrário, divide a linha pelo coeficiente\n",
        "        X[n-1] = T[n-1,n]/T[n-1,n-1] \n",
        "#\n",
        "        for i in range(n-2,-1,-1):\n",
        "#Soma da linha i  \n",
        "            s = 0\n",
        "            for j in range(i+1, n):\n",
        "                s += T[i,j]*X[j]\n",
        "            X[i] = (T[i,n] - s)/T[i,i]\n",
        "    \n",
        "    return X, flag"
      ],
      "metadata": {
        "id": "Gw3zvollNk4s"
      },
      "execution_count": null,
      "outputs": []
    },
    {
      "cell_type": "markdown",
      "source": [
        "Obtivemos uma matriz triangular (a matriz reduzida) por meio da eliminação de Gauss:\n",
        "\n",
        "$\\left[ \\begin {array}{cccc} 4 & 4 & -4  & \\hspace{1cm}4\\\\ 0 & 2 & \\space\\space\\space2  & \\hspace{1cm}4\\\\0 & 0 & \\space\\space\\space8 & \\hspace{1cm}8\\end{array}\\right] $"
      ],
      "metadata": {
        "id": "rXaxvKKyVpkk"
      }
    },
    {
      "cell_type": "code",
      "source": [
        "T, erro = gaussiana_parcial(A,b)\n",
        "\n",
        "if erro:\n",
        "    print('Sem solução única')\n",
        "else:\n",
        "    X, erro = retrosubstitut(T)\n",
        "    if erro:\n",
        "        print('Sem solução única')\n",
        "    else:\n",
        "        print('Solução:', X)"
      ],
      "metadata": {
        "colab": {
          "base_uri": "https://localhost:8080/"
        },
        "id": "MkK4wZCxNIM3",
        "outputId": "5bbacfe2-22bf-4055-f2e5-dd4df58a1cf2"
      },
      "execution_count": null,
      "outputs": [
        {
          "output_type": "stream",
          "name": "stdout",
          "text": [
            "Solução: [1. 1. 1.]\n"
          ]
        }
      ]
    },
    {
      "cell_type": "markdown",
      "source": [
        "# **... mas podemos usar a função embutida no NumPy (solve) :**"
      ],
      "metadata": {
        "id": "vNgCYGYKOW-H"
      }
    },
    {
      "cell_type": "code",
      "source": [
        "np.linalg.solve(A,b)"
      ],
      "metadata": {
        "colab": {
          "base_uri": "https://localhost:8080/"
        },
        "id": "uCBVpmmcOPHe",
        "outputId": "f4d27e06-9943-44d7-f755-f21bbf4fdbdb"
      },
      "execution_count": null,
      "outputs": [
        {
          "output_type": "execute_result",
          "data": {
            "text/plain": [
              "array([1., 1., 1.])"
            ]
          },
          "metadata": {},
          "execution_count": 11
        }
      ]
    }
  ]
}