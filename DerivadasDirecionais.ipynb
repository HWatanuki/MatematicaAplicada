{
  "nbformat": 4,
  "nbformat_minor": 0,
  "metadata": {
    "colab": {
      "name": "DerivadasDirecionais.ipynb",
      "provenance": [],
      "include_colab_link": true
    },
    "kernelspec": {
      "name": "python3",
      "display_name": "Python 3"
    },
    "language_info": {
      "name": "python"
    }
  },
  "cells": [
    {
      "cell_type": "markdown",
      "metadata": {
        "id": "view-in-github",
        "colab_type": "text"
      },
      "source": [
        "<a href=\"https://colab.research.google.com/github/HWatanuki/MatematicaAplicada/blob/main/DerivadasDirecionais.ipynb\" target=\"_parent\"><img src=\"https://colab.research.google.com/assets/colab-badge.svg\" alt=\"Open In Colab\"/></a>"
      ]
    },
    {
      "cell_type": "markdown",
      "source": [
        "R é o sistema de coordenadas; v é um vetor "
      ],
      "metadata": {
        "id": "wYLjUUcB84-9"
      }
    },
    {
      "cell_type": "markdown",
      "source": [
        "from sympy.vector import CoordSys3D\n",
        "R = CoordSys3D('R')\n",
        "electric_potential = 2*R.x**2*R.y\n",
        "electric_potential\n",
        "2*R.x**2*R.y"
      ],
      "metadata": {
        "id": "hoai8Z87tqzo"
      }
    },
    {
      "cell_type": "code",
      "source": [
        "from sympy.vector import CoordSys3D, Del\n",
        "C = CoordSys3D('C')\n",
        "delop = Del()\n",
        "delop.gradient(C.x*C.y*C.z*C.z).doit()\n",
        "\n"
      ],
      "metadata": {
        "colab": {
          "base_uri": "https://localhost:8080/",
          "height": 38
        },
        "id": "4JFAe1DRt3Jt",
        "outputId": "c71a05a6-35c2-4317-a7ae-5768214922e4"
      },
      "execution_count": null,
      "outputs": [
        {
          "output_type": "execute_result",
          "data": {
            "text/plain": [
              "C.y*C.z**2*C.i + C.x*C.z**2*C.j + 2*C.x*C.y*C.z*C.k"
            ],
            "text/latex": "$\\displaystyle (\\mathbf{{y}_{C}} \\mathbf{{z}_{C}}^{2})\\mathbf{\\hat{i}_{C}} + (\\mathbf{{x}_{C}} \\mathbf{{z}_{C}}^{2})\\mathbf{\\hat{j}_{C}} + (2 \\mathbf{{x}_{C}} \\mathbf{{y}_{C}} \\mathbf{{z}_{C}})\\mathbf{\\hat{k}_{C}}$"
          },
          "metadata": {},
          "execution_count": 13
        }
      ]
    },
    {
      "cell_type": "code",
      "source": [
        "from sympy.vector import gradient\n",
        "gradient(C.x*C.y*C.z)\n",
        "C.y*C.z*C.i + C.x*C.z*C.j + C.x*C.y*C.k"
      ],
      "metadata": {
        "colab": {
          "base_uri": "https://localhost:8080/",
          "height": 38
        },
        "id": "rmwEHMtnuCNc",
        "outputId": "1b814d8d-f208-4acf-ca03-33de65e7678f"
      },
      "execution_count": null,
      "outputs": [
        {
          "output_type": "execute_result",
          "data": {
            "text/plain": [
              "C.y*C.z*C.i + C.x*C.z*C.j + C.x*C.y*C.k"
            ],
            "text/latex": "$\\displaystyle (\\mathbf{{y}_{C}} \\mathbf{{z}_{C}})\\mathbf{\\hat{i}_{C}} + (\\mathbf{{x}_{C}} \\mathbf{{z}_{C}})\\mathbf{\\hat{j}_{C}} + (\\mathbf{{x}_{C}} \\mathbf{{y}_{C}})\\mathbf{\\hat{k}_{C}}$"
          },
          "metadata": {},
          "execution_count": 4
        }
      ]
    },
    {
      "cell_type": "markdown",
      "source": [
        "Calculando pela definição"
      ],
      "metadata": {
        "id": "I2jJyWhguauL"
      }
    },
    {
      "cell_type": "code",
      "source": [
        "from sympy.vector import CoordSys3D, Del\n",
        "C = CoordSys3D('C')\n",
        "delop = Del()\n",
        "vel = C.i + C.j + C.k\n",
        "scalar_field = C.x*C.y*C.z\n",
        "vector_field = C.x*C.y*C.z*C.i\n",
        "(vel.dot(delop))(scalar_field)\n",
        "C.x*C.y + C.x*C.z + C.y*C.z\n",
        "(vel & delop)(vector_field)\n",
        "(C.x*C.y + C.x*C.z + C.y*C.z)*C.i"
      ],
      "metadata": {
        "colab": {
          "base_uri": "https://localhost:8080/",
          "height": 38
        },
        "id": "9OOCyv_ruGg7",
        "outputId": "d074d0d0-4288-4ace-c61b-5a62d1d77fba"
      },
      "execution_count": null,
      "outputs": [
        {
          "output_type": "execute_result",
          "data": {
            "text/plain": [
              "(C.x*C.y + C.x*C.z + C.y*C.z)*C.i"
            ],
            "text/latex": "$\\displaystyle (\\mathbf{{x}_{C}} \\mathbf{{y}_{C}} + \\mathbf{{x}_{C}} \\mathbf{{z}_{C}} + \\mathbf{{y}_{C}} \\mathbf{{z}_{C}})\\mathbf{\\hat{i}_{C}}$"
          },
          "metadata": {},
          "execution_count": 5
        }
      ]
    },
    {
      "cell_type": "markdown",
      "source": [
        "Usando a função específica do SymPy"
      ],
      "metadata": {
        "id": "SwqUT6UCuUsv"
      }
    },
    {
      "cell_type": "code",
      "source": [
        "import numpy as np\n",
        "from sympy.vector import directional_derivative\n",
        "directional_derivative(C.x**3*C.y**4-C.x**4*C.y**3, np.cos(np.pi/6)*C.i + np.sin(np.pi/6)*C.j )"
      ],
      "metadata": {
        "colab": {
          "base_uri": "https://localhost:8080/",
          "height": 37
        },
        "id": "4mEU3AhKuLym",
        "outputId": "9ed65b12-aa8e-44e2-a1f3-886d2f1b912b"
      },
      "execution_count": null,
      "outputs": [
        {
          "output_type": "execute_result",
          "data": {
            "text/plain": [
              "-1.5*C.x**4*C.y**2 - 1.46410161513776*C.x**3*C.y**3 + 2.59807621135332*C.x**2*C.y**4"
            ],
            "text/latex": "$\\displaystyle - 1.5 \\mathbf{{x}_{C}}^{4} \\mathbf{{y}_{C}}^{2} - 1.46410161513776 \\mathbf{{x}_{C}}^{3} \\mathbf{{y}_{C}}^{3} + 2.59807621135332 \\mathbf{{x}_{C}}^{2} \\mathbf{{y}_{C}}^{4}$"
          },
          "metadata": {},
          "execution_count": 22
        }
      ]
    },
    {
      "cell_type": "code",
      "source": [
        ""
      ],
      "metadata": {
        "id": "-3QqgypWWEJx"
      },
      "execution_count": null,
      "outputs": []
    }
  ]
}