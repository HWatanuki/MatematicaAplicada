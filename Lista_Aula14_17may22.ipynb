{
  "nbformat": 4,
  "nbformat_minor": 0,
  "metadata": {
    "colab": {
      "name": "Lista_Aula14_17may22.ipynb",
      "provenance": [],
      "authorship_tag": "ABX9TyPhxzgQ+Z0AePRLtZcZPrId",
      "include_colab_link": true
    },
    "kernelspec": {
      "name": "python3",
      "display_name": "Python 3"
    },
    "language_info": {
      "name": "python"
    }
  },
  "cells": [
    {
      "cell_type": "markdown",
      "metadata": {
        "id": "view-in-github",
        "colab_type": "text"
      },
      "source": [
        "<a href=\"https://colab.research.google.com/github/HWatanuki/MatematicaAplicada/blob/main/Lista_Aula14_17may22.ipynb\" target=\"_parent\"><img src=\"https://colab.research.google.com/assets/colab-badge.svg\" alt=\"Open In Colab\"/></a>"
      ]
    },
    {
      "cell_type": "markdown",
      "source": [
        "1. Consideremos as seguintes bases do R2 : A = {(1, 1), (0,-1)} e B = {(2,-3), (-3, 5)}.\n",
        "\n",
        "a) Determinar a matriz-mudança de base [I]AB.\n",
        "\n",
        "Expressando os valores de A em B, temos:\n",
        "(1,1) = a11(2,-3)+a21(-3,5) e portanto [v1]B = (8,5), e\n",
        "(0,-1) = a12(2,-3)+a22(-3,-5) e, portanto, [v2]B = (-3,-2)\n",
        "Consequentemente, a matriz mudança de base será [[8 5] [-3 -2]].\n",
        "\n",
        "\n",
        "b) Utilizar a matriz obtida no item a) para calcular vB, sendo vA = (2, 3).\n",
        "\n",
        "Sabendo que [v]B = [I]AB.[v]A, tem-se que [v]B = [[8 5] [-3 -2]].[[2 3]]. Portanto, [v]B = [[7 4]].\n",
        "\n",
        "\n",
        "c) Determinar a matriz-mudança de base de B para A.\n",
        "\n",
        "Sabendo que [I]B  = [I]A-1, então [I]B = [[2 5] [-3 8]]"
      ],
      "metadata": {
        "id": "KU-Q44at3C_C"
      }
    },
    {
      "cell_type": "markdown",
      "source": [
        "2. Sabendo que [I]A\n",
        "B = [[ -1 4 ][4 -11]] e B = {(3, 5), (1, 2)}, determinar a base A.\n",
        "\n",
        "Considerando que [V]B = [I]AB.[V]A, então [V]A=[V]B.1/[V]AB\n",
        "Portanto, [V]A = [[37/5 13/5] [63/5 22/5]]"
      ],
      "metadata": {
        "id": "UZtFDYDm3WBM"
      }
    },
    {
      "cell_type": "markdown",
      "source": [
        "3. Seja T : R2 => R2 um operador linear. Consideremos as bases A canônica e B =\n",
        "{(4, 1), (-11,-3)} . Sabendo que [T]B = [[3 1] [5 2]], determinar [T]A, utilizando a relação entre matrizes semelhantes.\n",
        "\n",
        "Considerando que [T]B = (1/[I]BA).[T]A.[I]BA, tem-se que [T]A = [I]BA.[T]B.[I]AB"
      ],
      "metadata": {
        "id": "_BsG8Rz-3ZNW"
      }
    }
  ]
}