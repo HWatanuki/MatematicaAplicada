{
  "nbformat": 4,
  "nbformat_minor": 0,
  "metadata": {
    "colab": {
      "name": "MontyHall.ipynb",
      "provenance": [],
      "include_colab_link": true
    },
    "kernelspec": {
      "name": "python3",
      "display_name": "Python 3"
    },
    "language_info": {
      "name": "python"
    }
  },
  "cells": [
    {
      "cell_type": "markdown",
      "metadata": {
        "id": "view-in-github",
        "colab_type": "text"
      },
      "source": [
        "<a href=\"https://colab.research.google.com/github/HWatanuki/MatematicaAplicada/blob/main/MontyHall.ipynb\" target=\"_parent\"><img src=\"https://colab.research.google.com/assets/colab-badge.svg\" alt=\"Open In Colab\"/></a>"
      ]
    },
    {
      "cell_type": "code",
      "execution_count": null,
      "metadata": {
        "colab": {
          "base_uri": "https://localhost:8080/"
        },
        "id": "fTO2SBtaQ4bh",
        "outputId": "8de2757e-b443-482e-f1c2-d3249841ca42"
      },
      "outputs": [
        {
          "output_type": "stream",
          "name": "stdout",
          "text": [
            "\n",
            "    2 rodadas foram jogadas \n",
            "    Chances de ganhar o carro baseadas nas seguintes estratégias:\n",
            "    Permanecendo com a escolha inicial: 100.0%\n",
            "    Mudando de porta inicialmente escolhida: 0.0%\n",
            "\n",
            "A simulação rodou em: 0.0 segundos\n"
          ]
        }
      ],
      "source": [
        "from numpy import random\n",
        "import numpy as np\n",
        "import time\n",
        "\n",
        "def SimulacaoMontyHall (N):\n",
        "    ManteveEscolha=[]\n",
        "    MudouEscolha=[]\n",
        "    NN=1\n",
        "    for i in range(0,N):\n",
        "        \n",
        "        # 1) O carro é colocado atrás de uma porta aleatória\n",
        "        PortaComCarro=random.choice(['Porta 1', 'Porta 2', 'Porta 3'])\n",
        "\n",
        "        # 2) O participante escolhe uma porta ao acaso\n",
        "        PrimeiraEscolha=random.choice(['Porta 1', 'Porta 2', 'Porta 3'])\n",
        "        \n",
        "        # 3) O animador abre uma porta que não foi a que o participante escolheu\n",
        "        #    que não é a que contém o carro \n",
        "        PortaAberta=list(set(['Porta 1', 'Porta 2', 'Porta 3'])-set([PrimeiraEscolha,PortaComCarro]))[0]\n",
        "        \n",
        "        # 4) A outra porta não é a escolhida pelo participante e não é a que foi aberta\n",
        "        OutraPorta=list(set(['Porta 1', 'Porta 2', 'Porta 3'])-set([PrimeiraEscolha,PortaAberta]))[0]\n",
        "        \n",
        "        # 5) Inclui \"True\" em uma lista em que o participante NÃO TROCA sua escolha E sua escolha\n",
        "        #    havia sido a correta (a porta com o carro)\n",
        "        ManteveEscolha.append(PrimeiraEscolha==PortaComCarro)\n",
        "        \n",
        "        # 6) Inclui \"True\"  em uma lista em que o participante TROCA de escolha e sua nova escolha\n",
        "        #    TEM o carro atrás (acerta)\n",
        "        MudouEscolha.append(OutraPorta==PortaComCarro)\n",
        "        \n",
        "    # OBS: O objeto booleano \"TRUE\" é igual a 1 e \"False\" é igual a 0.\n",
        "    #       Assim, podemos empregar a função soma para obter a quantidade total de acertos\n",
        "    #       para cada estratégia\n",
        "    print(f'\\n\\\n",
        "    {N:,} rodadas foram jogadas \\n\\\n",
        "    Chances de ganhar o carro baseadas nas seguintes estratégias:\\n\\\n",
        "    Permanecendo com a escolha inicial: {\"{:.1%}\".format(sum(ManteveEscolha)/N)}\\n\\\n",
        "    Mudando de porta inicialmente escolhida: {\"{:.1%}\".format(sum(MudouEscolha)/N)}')\n",
        "            \n",
        "#################################            \n",
        "###### Rodando o simulador ######\n",
        "#################################\n",
        "Inicio = time.time()\n",
        "SimulacaoMontyHall(N=2)         \n",
        "print(f'\\nA simulação rodou em: {round(time.time()-Inicio,2)} segundos')"
      ]
    }
  ]
}